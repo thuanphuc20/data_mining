{
 "cells": [
  {
   "cell_type": "code",
   "execution_count": 3,
   "metadata": {},
   "outputs": [
    {
     "data": {
      "text/plain": [
       "<Response [401]>"
      ]
     },
     "execution_count": 3,
     "metadata": {},
     "output_type": "execute_result"
    }
   ],
   "source": [
    "import requests\n",
    "\n",
    "api_key = \"YOUR_API_KEY\"  # Thay thế bằng API key của bạn\n",
    "city = \"Da Nang\"\n",
    "url = f\"http://api.openweathermap.org/data/2.5/weather?q={city}&appid={api_key}&units=metric\"\n",
    "\n",
    "response = requests.get(url)\n",
    "data = response.json()\n",
    "\n",
    "if response.status_code == 200:\n",
    "    print(f\"Thời tiết hiện tại ở {city}:\")\n",
    "    print(f\"Nhiệt độ: {data['main']['temp']}°C\")\n",
    "    print(f\"Độ ẩm: {data['main']['humidity']}%\")\n",
    "    print(f\"Mô tả: {data['weather'][0]['description']}\")\n",
    "else:\n",
    "    print(\"Không thể lấy dữ liệu thời tiết\")"
   ]
  }
 ],
 "metadata": {
  "kernelspec": {
   "display_name": "data_mining",
   "language": "python",
   "name": "python3"
  },
  "language_info": {
   "codemirror_mode": {
    "name": "ipython",
    "version": 3
   },
   "file_extension": ".py",
   "mimetype": "text/x-python",
   "name": "python",
   "nbconvert_exporter": "python",
   "pygments_lexer": "ipython3",
   "version": "3.11.9"
  }
 },
 "nbformat": 4,
 "nbformat_minor": 2
}
